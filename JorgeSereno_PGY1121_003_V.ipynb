{
  "nbformat": 4,
  "nbformat_minor": 0,
  "metadata": {
    "colab": {
      "provenance": []
    },
    "kernelspec": {
      "name": "python3",
      "display_name": "Python 3"
    },
    "language_info": {
      "name": "python"
    }
  },
  "cells": [
    {
      "cell_type": "code",
      "execution_count": 34,
      "metadata": {
        "id": "15mYkeIxSzdq"
      },
      "outputs": [],
      "source": [
        "import numpy as np"
      ]
    },
    {
      "cell_type": "code",
      "source": [
        "platinum = 120000 #(asientos del 1 al 20)\n",
        "golden = 80000 #(asientos del 21 al 50)\n",
        "silver = 50000 #(asientos del 51 al 100)\n",
        "\n",
        "\n",
        "recaudacion = 0\n",
        "vendidas = 0\n",
        "#disponible = np.empty ((filas,columnas), dtype=object)\n",
        "\n",
        "\n",
        "teatro = np.array([[10,10]])"
      ],
      "metadata": {
        "id": "QmbBx-IQS4nC"
      },
      "execution_count": null,
      "outputs": []
    },
    {
      "cell_type": "code",
      "source": [],
      "metadata": {
        "id": "TheZHyn3quMC"
      },
      "execution_count": null,
      "outputs": []
    },
    {
      "cell_type": "code",
      "source": [
        "def compra():\n",
        "\n",
        "  rut = int(input('Favor ingrese su rut'))\n",
        "  compra = int(input('Ingrese cantidad de entradas a comprar de máximo 3'))"
      ],
      "metadata": {
        "id": "dLkIHklMWwy2"
      },
      "execution_count": 22,
      "outputs": []
    },
    {
      "cell_type": "code",
      "source": [
        "def disponible():\n",
        "  return"
      ],
      "metadata": {
        "id": "vHW76VlQW0h5"
      },
      "execution_count": null,
      "outputs": []
    },
    {
      "cell_type": "code",
      "source": [
        "def asistente():\n",
        "  return"
      ],
      "metadata": {
        "id": "NEthqxwOW6TQ"
      },
      "execution_count": null,
      "outputs": []
    },
    {
      "cell_type": "code",
      "source": [
        "def ganancia():\n",
        "\n",
        "#for i in range ()"
      ],
      "metadata": {
        "id": "ym1jz7dwW-Sx"
      },
      "execution_count": null,
      "outputs": []
    },
    {
      "cell_type": "code",
      "source": [
        "def salir():\n",
        "  print('Gracias por su visita')\n",
        "  print('Desarrollado por Jsereno')\n",
        "  print('11/07/2023')"
      ],
      "metadata": {
        "id": "3Fq2CxxCXBTY"
      },
      "execution_count": null,
      "outputs": []
    },
    {
      "cell_type": "code",
      "source": [
        "def menu():\n",
        "  while True:\n",
        "    print(31*'*')\n",
        "    print('---- Show Michael Jam 2023 ----')\n",
        "    print('1. Compra de entradas')\n",
        "    print('2. Mostrar ubicaciones disponibles')\n",
        "    print('3. Mostrar listado de asistentes')\n",
        "    print('4. Ganancias totales')\n",
        "    print('5. Salir')\n",
        "    print('---- www.creativos.cl ----')\n",
        "\n",
        "opcion=int(input('Favor seleccione una opción: '))\n",
        "\n",
        "if opcion == 1:\n",
        "  compra()\n",
        "\n",
        "elif opcion == 2:\n",
        "  disponible()\n",
        "\n",
        "elif opcion == 3:\n",
        "  asistente()\n",
        "\n",
        "elif opcion == 4:\n",
        "  ganancia()\n",
        "\n",
        "elif opcion == 5:\n",
        "  salir()\n",
        "  break\n",
        "\n",
        "else:\n",
        "  print('Opción no válida, por favor ingrese un número del 1 al 5')"
      ],
      "metadata": {
        "id": "lTFF19QjTiJf"
      },
      "execution_count": null,
      "outputs": []
    },
    {
      "cell_type": "code",
      "source": [
        "try:\n",
        "  menu()\n",
        "except KeyboardInterrupt:\n",
        "  print('El programa fue parado manualmente')"
      ],
      "metadata": {
        "id": "oQbw59ZNV1gt"
      },
      "execution_count": null,
      "outputs": []
    },
    {
      "cell_type": "code",
      "source": [
        "asientos()"
      ],
      "metadata": {
        "id": "6MxpVZsUvhWc"
      },
      "execution_count": null,
      "outputs": []
    }
  ]
}